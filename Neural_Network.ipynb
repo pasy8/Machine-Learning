{
  "cells": [
    {
      "cell_type": "markdown",
      "metadata": {
        "id": "view-in-github",
        "colab_type": "text"
      },
      "source": [
        "<a href=\"https://colab.research.google.com/github/pasy8/Machine-Learning/blob/main/Neural_Network.ipynb\" target=\"_parent\"><img src=\"https://colab.research.google.com/assets/colab-badge.svg\" alt=\"Open In Colab\"/></a>"
      ]
    },
    {
      "cell_type": "markdown",
      "id": "060a6423",
      "metadata": {
        "id": "060a6423"
      },
      "source": [
        "## Project #1\n",
        "## Create a Neural Network In Python"
      ]
    },
    {
      "cell_type": "markdown",
      "id": "44262c28",
      "metadata": {
        "id": "44262c28"
      },
      "source": [
        "bold text![image-3.png](attachment:image-3.png)"
      ]
    },
    {
      "cell_type": "markdown",
      "id": "a4fb3062",
      "metadata": {
        "id": "a4fb3062"
      },
      "source": [
        "![image.png](attachment:image.png)"
      ]
    },
    {
      "cell_type": "code",
      "execution_count": null,
      "id": "9e2d06c1",
      "metadata": {
        "id": "9e2d06c1"
      },
      "outputs": [],
      "source": [
        "import numpy as np\n",
        "import math\n",
        "import random\n",
        "import pandas as pd\n",
        "from matplotlib import pyplot as plt\n",
        "from sklearn import datasets\n",
        "from keras.datasets import mnist\n",
        "from sklearn.svm import SVC, LinearSVC\n",
        "from sklearn.model_selection import train_test_split\n",
        "from sklearn.metrics import accuracy_score\n",
        "from mlxtend.plotting import plot_decision_regions\n",
        "from  sklearn.model_selection  import GridSearchCV\n",
        "from sklearn.preprocessing import OneHotEncoder\n",
        "import seaborn as sns\n"
      ]
    },
    {
      "cell_type": "code",
      "source": [
        "def kaiming_uniform(feature_in,feature_out):\n",
        "  '''function used for intialization '''\n",
        "  b=np.sqrt(2)*np.sqrt(3/feature_in)\n",
        "  u=np.random.rand(feature_in,feature_out)*(2*b)-b\n",
        "  return u"
      ],
      "metadata": {
        "id": "M04XibtVB28F"
      },
      "id": "M04XibtVB28F",
      "execution_count": null,
      "outputs": []
    },
    {
      "cell_type": "code",
      "execution_count": null,
      "id": "7461c2e1",
      "metadata": {
        "id": "7461c2e1"
      },
      "outputs": [],
      "source": [
        "class MSSE:\n",
        "    def __init__(self) -> None:\n",
        "        None\n",
        "    def loss(self, predict,y): #returns loss and gradient\n",
        "        loss_print =np.sum((predict-y)**2, axis=0)/y.shape[0]\n",
        "\n",
        "        grad_loss = (predict-y)*2/y.shape[0]\n",
        "        return loss_print,grad_loss"
      ]
    },
    {
      "cell_type": "code",
      "execution_count": null,
      "id": "fe57ea2e",
      "metadata": {
        "id": "fe57ea2e"
      },
      "outputs": [],
      "source": [
        "class Linear:\n",
        "    def __init__(self, in_features, out_features, bias=True):\n",
        "\n",
        "        self.in_features = in_features\n",
        "        self.out_features = out_features\n",
        "        self.weight=kaiming_uniform(in_features,out_features)\n",
        "\n",
        "    def forward(self, x): # x is m*in_features m is sample number, in_features is feature number\n",
        "      self.inputs=x\n",
        "      output=np.zeros((x.shape[0], self.out_features))\n",
        "      output=np.matmul(x,self.weight)\n",
        "      return output\n",
        "\n",
        "    def backward(self, out_grad):\n",
        "        '''#outgrad is m*out_features'''\n",
        "        self.learing_rate=0.3\n",
        "        X_grad=np.matmul(out_grad,  self.weight.T)\n",
        "        weight_grad=np.matmul( self.inputs.T,out_grad) #self.inputs is gradient w.r.t weights\n",
        "        self.weight-= self.learing_rate*weight_grad\n",
        "\n",
        "        return X_grad\n"
      ]
    },
    {
      "cell_type": "code",
      "source": [
        "class Relu:\n",
        "    ''' inputis like output'''\n",
        "    def __init__(self) -> None:\n",
        "        None\n",
        "    def forward(self, x):\n",
        "      self.inputs=x\n",
        "      output=np.zeros(x.shape)\n",
        "\n",
        "      output=np.maximum(0,x)\n",
        "      return output\n",
        "\n",
        "    def backward(self, out_grad):\n",
        "\n",
        "        X_grad=np.zeros(self.inputs.shape)\n",
        "\n",
        "        #'''self. inputs shape is same as out_grad\n",
        "        X_grad=out_grad*(self.inputs>0)\n",
        "        return X_grad\n"
      ],
      "metadata": {
        "id": "McOpBSK7Uh0U"
      },
      "id": "McOpBSK7Uh0U",
      "execution_count": null,
      "outputs": []
    },
    {
      "cell_type": "code",
      "source": [
        "class sigmoid:\n",
        "    ''' input must me n*m'''\n",
        "    def __init__(self) -> None:\n",
        "        None\n",
        "    def forward(self, x):\n",
        "      self.inputs=x\n",
        "      self.output=np.zeros(x.shape)\n",
        "\n",
        "      self.output=1/(1+np.exp(-x))\n",
        "      return self.output\n",
        "\n",
        "    def backward(self, out_grad):\n",
        "        '''#outgrad is m*n'''\n",
        "        X_grad=np.zeros(self.inputs.shape)                            #'''self. inputs shape is same as out_grad\n",
        "        X_grad=np.multiply(out_grad,np.multiply((self.output),(1-self.output)))\n",
        "        return X_grad"
      ],
      "metadata": {
        "id": "AwEIAorHJpFh"
      },
      "id": "AwEIAorHJpFh",
      "execution_count": null,
      "outputs": []
    },
    {
      "cell_type": "markdown",
      "source": [
        "**1) Reading mnist data and preparing data**\n",
        "\n",
        "\n",
        "\n",
        "\n"
      ],
      "metadata": {
        "id": "fNM4fQ0onou_"
      },
      "id": "fNM4fQ0onou_"
    },
    {
      "cell_type": "code",
      "source": [
        "digits = datasets.load_digits()\n",
        "(X_train, y_raw_train), (X_test, y_raw_test) = mnist.load_data()\n",
        "\n",
        "Z=[0]*len(X_train)\n",
        "X_trainnew=np.zeros((X_train.shape[0],28*28))\n",
        "X_testnew=np.zeros((X_test.shape[0],28*28))\n",
        "\n",
        "# Making Data 1D (flatten)\n",
        "for i in range(len(X_train)):\n",
        "  Z=list(np.concatenate(X_train[i]).flat)\n",
        "  X_trainnew[i]=np.array(Z)/255\n",
        "for i in range(len(X_test)):\n",
        "  Z=list(np.concatenate(X_test[i]).flat)\n",
        "  X_testnew[i]=np.array(Z)/255\n",
        "\n",
        "\n",
        "X_testnew.shape\n"
      ],
      "metadata": {
        "colab": {
          "base_uri": "https://localhost:8080/"
        },
        "id": "WCK3j2rPgEB9",
        "outputId": "b77fe945-d668-4b20-92a8-79f27408b541"
      },
      "id": "WCK3j2rPgEB9",
      "execution_count": null,
      "outputs": [
        {
          "output_type": "execute_result",
          "data": {
            "text/plain": [
              "(10000, 784)"
            ]
          },
          "metadata": {},
          "execution_count": 65
        }
      ]
    },
    {
      "cell_type": "markdown",
      "source": [
        "**2) Hot encoding Y**\n",
        "\n"
      ],
      "metadata": {
        "id": "CiMrfonb7B9A"
      },
      "id": "CiMrfonb7B9A"
    },
    {
      "cell_type": "code",
      "source": [
        "y_raw_train.shape\n",
        "onehot_encoder = OneHotEncoder(sparse=False)\n",
        "y_train_new= onehot_encoder.fit_transform(y_raw_train.reshape(-1,1))\n",
        "y_test_new=onehot_encoder.fit_transform(y_raw_test.reshape(-1,1))\n",
        "print(y_train_new.shape[0])"
      ],
      "metadata": {
        "colab": {
          "base_uri": "https://localhost:8080/"
        },
        "id": "UaNsVr5F7AUm",
        "outputId": "c970caa7-11ea-4378-f2e5-e62b924c3e11"
      },
      "id": "UaNsVr5F7AUm",
      "execution_count": null,
      "outputs": [
        {
          "output_type": "stream",
          "name": "stdout",
          "text": [
            "60000\n"
          ]
        }
      ]
    },
    {
      "cell_type": "code",
      "source": [
        "x=np.array([12,3,-2])\n",
        "1/(1+np.exp(-x))\n",
        "layer=sigmoid()\n",
        "print(1/(1+np.exp(-x)))\n",
        "layer.forward(x)\n"
      ],
      "metadata": {
        "colab": {
          "base_uri": "https://localhost:8080/"
        },
        "id": "tqFc35SZRFdG",
        "outputId": "bb77470e-4344-40f7-a2ee-cf2011463ca1"
      },
      "id": "tqFc35SZRFdG",
      "execution_count": null,
      "outputs": [
        {
          "output_type": "stream",
          "name": "stdout",
          "text": [
            "[0.99999386 0.95257413 0.11920292]\n"
          ]
        },
        {
          "output_type": "execute_result",
          "data": {
            "text/plain": [
              "array([0.99999386, 0.95257413, 0.11920292])"
            ]
          },
          "metadata": {},
          "execution_count": 194
        }
      ]
    },
    {
      "cell_type": "markdown",
      "id": "b2d01c92",
      "metadata": {
        "id": "b2d01c92"
      },
      "source": [
        "## Test your model on IRIS  dataset and MNIST Dataset"
      ]
    },
    {
      "cell_type": "markdown",
      "source": [
        " ***Working* on Mnist**"
      ],
      "metadata": {
        "id": "CatMZ2ZK7LBK"
      },
      "id": "CatMZ2ZK7LBK"
    },
    {
      "cell_type": "code",
      "execution_count": null,
      "metadata": {
        "id": "GSFtL2F2iPI4",
        "colab": {
          "base_uri": "https://localhost:8080/"
        },
        "outputId": "2b369784-8856-4780-e2a6-7eb8302d8df0"
      },
      "outputs": [
        {
          "output_type": "stream",
          "name": "stdout",
          "text": [
            "loss is\n",
            "0.2015010489779447\n"
          ]
        }
      ],
      "source": [
        "layer1=Linear(784,28)\n",
        "layer2=Relu()\n",
        "layer4=Linear(28,10)\n",
        "layer5=sigmoid()\n",
        "# trials was made by changing learning rate, number of linear layers , adding sigmoid and changing number of iterations\n",
        "loss_fun=MSSE()\n",
        "for i in range(300): # 300 is just by trial an error to get loss to be as minimum as possible\n",
        "  forward_1=layer5.forward(layer4.forward((layer2.forward(layer1.forward(X_trainnew)))))\n",
        "  loss,grad=loss_fun.loss(forward_1,y_train_new)\n",
        "  layer1.backward(layer2.backward((layer4.backward(layer5.backward(grad)))))\n",
        "print(\"loss is\")\n",
        "print(loss.sum())\n",
        "\n"
      ],
      "id": "GSFtL2F2iPI4"
    },
    {
      "cell_type": "markdown",
      "source": [
        "***Testing Our model***"
      ],
      "metadata": {
        "id": "qBHjgOAChsS2"
      },
      "id": "qBHjgOAChsS2"
    },
    {
      "cell_type": "code",
      "source": [
        "test=layer5.forward(layer4.forward((layer2.forward(layer1.forward(X_testnew)))))\n",
        "print(accuracy_score(test.argmax(axis=1), y_test_new.argmax(axis=1)))\n"
      ],
      "metadata": {
        "colab": {
          "base_uri": "https://localhost:8080/"
        },
        "id": "F8S-EuwvraWo",
        "outputId": "c460991d-d363-4062-e611-650b767468da"
      },
      "id": "F8S-EuwvraWo",
      "execution_count": null,
      "outputs": [
        {
          "output_type": "stream",
          "name": "stdout",
          "text": [
            "0.9049\n"
          ]
        }
      ]
    },
    {
      "cell_type": "markdown",
      "source": [
        "**Iris data**\n"
      ],
      "metadata": {
        "id": "EL6v7ip1oKyw"
      },
      "id": "EL6v7ip1oKyw"
    },
    {
      "cell_type": "code",
      "source": [
        "iris = datasets.load_iris()\n",
        "iris_data=pd.DataFrame(iris.data,columns=iris.feature_names)\n",
        "\n",
        "corr_matrix=iris_data.corr()\n",
        "ax = sns.heatmap(\n",
        "    corr_matrix,\n",
        "    vmin=-1, vmax=1, center=0,\n",
        "    cmap=sns.diverging_palette(20, 220, n=200),\n",
        "    square=True\n",
        ")\n",
        "iris_data.drop_duplicates()\n",
        "iris_data.drop(['sepal width (cm)'], axis=1) # as it is not correlated with other features\n",
        "iris_data['target']=pd.Series(iris.target)\n",
        "iris_data=iris_data.to_numpy()\n"
      ],
      "metadata": {
        "colab": {
          "base_uri": "https://localhost:8080/",
          "height": 347
        },
        "id": "FxgOIshBh9yi",
        "outputId": "1f0bc3b2-ebe4-4f6f-92e9-5574d892b1f5"
      },
      "id": "FxgOIshBh9yi",
      "execution_count": null,
      "outputs": [
        {
          "output_type": "display_data",
          "data": {
            "text/plain": [
              "<Figure size 432x288 with 2 Axes>"
            ],
            "image/png": "[encoded data removed]"
          },
          "metadata": {
            "needs_background": "light"
          }
        }
      ]
    },
    {
      "cell_type": "markdown",
      "source": [
        "**Encoding y**"
      ],
      "metadata": {
        "id": "XKsfykxYsCVV"
      },
      "id": "XKsfykxYsCVV"
    },
    {
      "cell_type": "code",
      "source": [
        "iris_data_train,iris_data_test=train_test_split(iris_data,test_size=30,random_state=42)\n",
        "y_test=onehot_encoder.fit_transform(iris_data_test[:,4].reshape(-1,1))\n",
        "y_train=onehot_encoder.fit_transform(iris_data_train[:,4].reshape(-1,1))\n",
        "iris_data_train=iris_data_train[:,0:3]\n",
        "iris_data_test=iris_data_test[:,0:3]"
      ],
      "metadata": {
        "id": "WAOdWlCFoU-w"
      },
      "id": "WAOdWlCFoU-w",
      "execution_count": null,
      "outputs": []
    },
    {
      "cell_type": "markdown",
      "source": [
        "**Our Iris Model**"
      ],
      "metadata": {
        "id": "AJJMBgRBxoJo"
      },
      "id": "AJJMBgRBxoJo"
    },
    {
      "cell_type": "code",
      "source": [
        "layer1=Linear(3,3)\n",
        "layer3=sigmoid()\n",
        "loss_fun=MSSE()\n",
        "for i in range(500): # 500 is just by trial an error to get loss to be as minimum as possible\n",
        "  forward=layer3.forward(((layer1.forward(iris_data_train))))\n",
        "  loss,grad=loss_fun.loss(forward,y_train)\n",
        "  layer1.backward(((layer3.backward(grad))))\n",
        "print(\"loss is\")\n",
        "print(loss.sum())"
      ],
      "metadata": {
        "colab": {
          "base_uri": "https://localhost:8080/"
        },
        "id": "IqkQyLw8sMXm",
        "outputId": "dbce1ac8-b59a-43bb-a878-f8dd78aed91e"
      },
      "id": "IqkQyLw8sMXm",
      "execution_count": null,
      "outputs": [
        {
          "output_type": "stream",
          "name": "stdout",
          "text": [
            "loss is\n",
            "0.24181363767358724\n"
          ]
        }
      ]
    },
    {
      "cell_type": "markdown",
      "source": [
        "**Testing and seeing accuracy**\n",
        "\n"
      ],
      "metadata": {
        "id": "KOwUeX97xt6s"
      },
      "id": "KOwUeX97xt6s"
    },
    {
      "cell_type": "code",
      "source": [
        "test=layer3.forward(((layer1.forward(iris_data_test))))\n",
        "\n",
        "print( accuracy_score(test.argmax(axis=1),y_test.argmax(axis=1)))\n"
      ],
      "metadata": {
        "colab": {
          "base_uri": "https://localhost:8080/"
        },
        "id": "jAtlTCeIwKSZ",
        "outputId": "13992313-eb14-409a-e56e-9b0bc18425ad"
      },
      "id": "jAtlTCeIwKSZ",
      "execution_count": null,
      "outputs": [
        {
          "output_type": "stream",
          "name": "stdout",
          "text": [
            "0.9\n"
          ]
        }
      ]
    },
    {
      "cell_type": "markdown",
      "id": "ff0e3351",
      "metadata": {
        "id": "ff0e3351"
      },
      "source": [
        "## Refrence\n",
        "https://becominghuman.ai/understanding-neural-networks-2-the-math-of-neural-networks-in-3-equations-6085fd3f09df\n",
        "https://towardsdatascience.com/how-to-define-a-neural-network-as-a-mathematical-function-f7b820cde3f\n"
      ]
    },
    {
      "cell_type": "code",
      "source": [],
      "metadata": {
        "id": "rTrnyvkBsWQC"
      },
      "id": "rTrnyvkBsWQC",
      "execution_count": null,
      "outputs": []
    }
  ],
  "metadata": {
    "kernelspec": {
      "display_name": "Python 3 (ipykernel)",
      "language": "python",
      "name": "python3"
    },
    "language_info": {
      "codemirror_mode": {
        "name": "ipython",
        "version": 3
      },
      "file_extension": ".py",
      "mimetype": "text/x-python",
      "name": "python",
      "nbconvert_exporter": "python",
      "pygments_lexer": "ipython3",
      "version": "3.8.12"
    },
    "colab": {
      "provenance": [],
      "include_colab_link": true
    }
  },
  "nbformat": 4,
  "nbformat_minor": 5
}