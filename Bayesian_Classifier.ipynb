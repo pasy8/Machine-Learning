{
  "cells": [
    {
      "cell_type": "markdown",
      "metadata": {
        "id": "view-in-github",
        "colab_type": "text"
      },
      "source": [
        "<a href=\"https://colab.research.google.com/github/pasy8/Machine-Learning/blob/main/Bayesian_Classifier.ipynb\" target=\"_parent\"><img src=\"https://colab.research.google.com/assets/colab-badge.svg\" alt=\"Open In Colab\"/></a>"
      ]
    },
    {
      "cell_type": "markdown",
      "metadata": {
        "id": "-uOm80lIwZPh"
      },
      "source": [
        "Implemention of Bayesian classifier from scratch, and using it on MNIST dataset, and test.\n",
        "\n",
        "Generation of the confusion matrix and F1 score for each Dist."
      ]
    },
    {
      "cell_type": "code",
      "execution_count": null,
      "metadata": {
        "id": "ctJ-LD4VwYVP"
      },
      "outputs": [],
      "source": [
        "import numpy as np\n",
        "from numpy import log as ln\n",
        "import math\n",
        "import random\n",
        "import pandas as pd\n",
        "from matplotlib import pyplot as plt\n",
        "from sklearn import datasets,metrics\n",
        "from keras.datasets import mnist\n",
        "from sklearn.svm import SVC, LinearSVC\n",
        "from sklearn.model_selection import train_test_split\n",
        "from sklearn.metrics import accuracy_score,f1_score\n",
        "from mlxtend.plotting import plot_decision_regions\n",
        "from  sklearn.model_selection  import GridSearchCV\n",
        "from sklearn.preprocessing import OneHotEncoder\n",
        "import seaborn as sns\n",
        "\n"
      ]
    },
    {
      "cell_type": "markdown",
      "source": [
        "**Preparing the data**"
      ],
      "metadata": {
        "id": "fzzIULblOVD8"
      }
    },
    {
      "cell_type": "code",
      "source": [
        "digits = datasets.load_digits()\n",
        "X=digits.data\n",
        "\n",
        "Y=digits.target\n",
        "X_Normalized=X\n",
        "print(np.min(X))\n",
        "print(np.max(X))\n",
        "\n",
        "X_train, X_test, y_train, y_test = train_test_split(X_Normalized, Y, test_size=0.33, random_state=42)\n",
        "X_train.shape"
      ],
      "metadata": {
        "colab": {
          "base_uri": "https://localhost:8080/"
        },
        "id": "DTdeVBAQKCZ0",
        "outputId": "6a786033-56c5-4555-d9fd-bb6359f11bb6"
      },
      "execution_count": null,
      "outputs": [
        {
          "output_type": "stream",
          "name": "stdout",
          "text": [
            "0.0\n",
            "16.0\n"
          ]
        },
        {
          "output_type": "execute_result",
          "data": {
            "text/plain": [
              "(1203, 64)"
            ]
          },
          "metadata": {},
          "execution_count": 198
        }
      ]
    },
    {
      "cell_type": "markdown",
      "metadata": {
        "id": "Grv_x1CzRU1O"
      },
      "source": [
        "**Covariance function**"
      ]
    },
    {
      "cell_type": "code",
      "execution_count": null,
      "metadata": {
        "id": "_2QC0csW_7m3"
      },
      "outputs": [],
      "source": [
        "count=y_raw_train[y_raw_train==0].shape\n",
        "cov=np.sum((X_trainnew[y_raw_train==0]-mean)**2/count,axis=0) #variance is calucated here\n",
        "cov.shape\n",
        "class1_cov=np.diag(cov) # independcy is assumed\n"
      ]
    },
    {
      "cell_type": "code",
      "execution_count": null,
      "metadata": {
        "id": "kUQ5s69bCnNu"
      },
      "outputs": [],
      "source": [
        "def cov(X,meann,y, n):\n",
        "  count=y[y==n].shape\n",
        "  cov=np.sum((X[y==n]-meann)**2/count,axis=0) #variance is calucated here\n",
        "  class_cov=np.diag(cov)\n",
        "  print(sum(cov==0))\n",
        "  inv=np.diag(1/cov)\n",
        "  return cov"
      ]
    },
    {
      "cell_type": "code",
      "execution_count": null,
      "metadata": {
        "id": "bwTOAJc5MCQK"
      },
      "outputs": [],
      "source": [
        "cov=(X_trainnew,mean,y_raw_train,0)\n",
        "cov1=(X_trainnew,mean1,y_raw_train,1)\n",
        "\n",
        "#np.linalg.inv( class0_cov)"
      ]
    },
    {
      "cell_type": "markdown",
      "source": [
        "**Functions for getting the probabilty**"
      ],
      "metadata": {
        "id": "BFRKf85GBqOl"
      }
    },
    {
      "cell_type": "code",
      "execution_count": null,
      "metadata": {
        "id": "xrwZUixfH5Pj"
      },
      "outputs": [],
      "source": [
        "def getprob(X,C,P): # input is n*m n features for m sample, P is prob matrix for this class n*5 (categories)\n",
        " AccumProb=0\n",
        " for i in range(64):\n",
        "    Prob=P[i,int(X[i])]+1\n",
        "    AccumProb+=ln(Prob)\n",
        "\n",
        " return AccumProb\n",
        "\n"
      ]
    },
    {
      "cell_type": "code",
      "execution_count": null,
      "metadata": {
        "id": "-4v-0QssDmIg"
      },
      "outputs": [],
      "source": [
        "def probMtrix(X,Y,C): #x is matrix m*n\n",
        "  cum_prob=1\n",
        "  count=Y[Y==C].shape[0]\n",
        "  print(count)\n",
        "  c=0;\n",
        "  prob=np.zeros((64,17))\n",
        "  for i in range( (64)):\n",
        "   for j in range( (17)):\n",
        "    prob[i,j]=np.sum(X[Y==C][:,i]==j,axis=0)/count\n",
        "  return prob\n"
      ]
    },
    {
      "cell_type": "code",
      "source": [
        "def getmaxIndex(x):\n",
        " max=0\n",
        " for i in range(len(x)):\n",
        "  if (max<x[i]):\n",
        "    max=x[i]\n",
        "    index=i\n",
        " return index"
      ],
      "metadata": {
        "id": "4byLhPYR2f-y"
      },
      "execution_count": null,
      "outputs": []
    },
    {
      "cell_type": "markdown",
      "source": [
        "**Getting probability matrix for every class**\n",
        "\n"
      ],
      "metadata": {
        "id": "rTa61MAuBbi9"
      }
    },
    {
      "cell_type": "code",
      "execution_count": null,
      "metadata": {
        "colab": {
          "base_uri": "https://localhost:8080/"
        },
        "id": "W7YOmhVdY-ZJ",
        "outputId": "6ffa1211-8e43-49d9-f44c-aaeba34299bb"
      },
      "outputs": [
        {
          "output_type": "stream",
          "name": "stdout",
          "text": [
            "123\n",
            "127\n"
          ]
        }
      ],
      "source": [
        "prob_0= probMtrix(X_train,y_train,0)\n",
        "prob_1= probMtrix(X_train,y_train,1)\n",
        "\n"
      ]
    },
    {
      "cell_type": "code",
      "execution_count": null,
      "metadata": {
        "colab": {
          "base_uri": "https://localhost:8080/"
        },
        "id": "vgu8BiKRoxGw",
        "outputId": "a2c6b1e1-7d63-485b-8a37-56044c0ecc69"
      },
      "outputs": [
        {
          "output_type": "stream",
          "name": "stdout",
          "text": [
            "125\n",
            "127\n",
            "117\n"
          ]
        }
      ],
      "source": [
        "prob_2= probMtrix(X_train,y_train,2)\n",
        "prob_3= probMtrix(X_train,y_train,3)\n",
        "prob_4=probMtrix(X_train,y_train,4)\n"
      ]
    },
    {
      "cell_type": "code",
      "execution_count": null,
      "metadata": {
        "colab": {
          "base_uri": "https://localhost:8080/"
        },
        "id": "SdSbD-Tnoz_X",
        "outputId": "8b32cb7a-2c4d-4462-8ab2-e3120a74ee28"
      },
      "outputs": [
        {
          "output_type": "stream",
          "name": "stdout",
          "text": [
            "109\n",
            "124\n"
          ]
        }
      ],
      "source": [
        "prob_5=probMtrix(X_train,y_train,5)\n",
        "prob_6=probMtrix(X_train,y_train,6)\n",
        ""
      ]
    },
    {
      "cell_type": "code",
      "execution_count": null,
      "metadata": {
        "colab": {
          "base_uri": "https://localhost:8080/"
        },
        "id": "nEF7FIZmcU8S",
        "outputId": "58faa72b-7011-4fc9-b793-14e004a41958"
      },
      "outputs": [
        {
          "output_type": "stream",
          "name": "stdout",
          "text": [
            "117\n",
            "122\n",
            "112\n"
          ]
        }
      ],
      "source": [
        "prob_7=probMtrix(X_train,y_train,7)\n",
        "prob_8=probMtrix(X_train,y_train,8)\n",
        "prob_9=probMtrix(X_train,y_train,9)\n",
        "\n"
      ]
    },
    {
      "cell_type": "markdown",
      "source": [
        "**Test data**"
      ],
      "metadata": {
        "id": "9fCdSC2sFV1d"
      }
    },
    {
      "cell_type": "code",
      "execution_count": null,
      "metadata": {
        "id": "SGV7Z-kndyuo"
      },
      "outputs": [],
      "source": [
        "y_pred=np.zeros(y_test.shape)\n",
        "for  i in range (len(y_test)):\n",
        "  prob_final=np.array([getprob(X_test[i,:],0,prob_0),\n",
        "  getprob(X_test[i,:],1,prob_1),\n",
        "  getprob(X_test[i,:],2,prob_2),\n",
        "  getprob(X_test[i,:],3,prob_3),\n",
        "  getprob(X_test[i,:],4,prob_4),\n",
        "  getprob(X_test[i,:],5,prob_5),\n",
        "  getprob(X_test[i,:],6,prob_6),\n",
        "  getprob(X_test[i,:],7,prob_7),\n",
        "  getprob(X_test[i,:],8,prob_8),\n",
        "  getprob(X_test[i,:],9,prob_9)])\n",
        "  y_pred[i]=getmaxIndex(prob_final)\n",
        "\n",
        "\n"
      ]
    },
    {
      "cell_type": "markdown",
      "source": [
        "**Accuracy score, F1 score and confusion matrix**"
      ],
      "metadata": {
        "id": "BQFB4gS_OEHg"
      }
    },
    {
      "cell_type": "code",
      "execution_count": null,
      "metadata": {
        "colab": {
          "base_uri": "https://localhost:8080/"
        },
        "id": "NvtrLEroiUIc",
        "outputId": "d86e7de3-1d8e-4853-8aff-ab13a02796f6"
      },
      "outputs": [
        {
          "output_type": "execute_result",
          "data": {
            "text/plain": [
              "0.8114478114478114"
            ]
          },
          "metadata": {},
          "execution_count": 188
        }
      ],
      "source": [
        "accuracy_score(y_test,y_pred)"
      ]
    },
    {
      "cell_type": "code",
      "source": [
        "f1_score(y_test,y_pred,average='micro')"
      ],
      "metadata": {
        "colab": {
          "base_uri": "https://localhost:8080/"
        },
        "id": "vgA-5RUSGAlL",
        "outputId": "76078d8f-de1f-450b-9d01-cfbd6a256637"
      },
      "execution_count": null,
      "outputs": [
        {
          "output_type": "execute_result",
          "data": {
            "text/plain": [
              "0.8114478114478115"
            ]
          },
          "metadata": {},
          "execution_count": 197
        }
      ]
    },
    {
      "cell_type": "code",
      "source": [
        "metrics.confusion_matrix(y_test,y_pred)\n"
      ],
      "metadata": {
        "colab": {
          "base_uri": "https://localhost:8080/"
        },
        "id": "Y708gdYUFo0N",
        "outputId": "c9d938a4-c6c8-4581-bb3b-7639dbeead2c"
      },
      "execution_count": null,
      "outputs": [
        {
          "output_type": "execute_result",
          "data": {
            "text/plain": [
              "array([[52,  0,  0,  0,  3,  0,  0,  0,  0,  0],\n",
              "       [ 0, 52,  2,  0,  0,  0,  0,  0,  0,  1],\n",
              "       [ 0,  9, 42,  1,  0,  0,  0,  0,  0,  0],\n",
              "       [ 0,  4,  1, 50,  0,  0,  0,  1,  0,  0],\n",
              "       [ 0,  4,  0,  0, 59,  0,  0,  1,  0,  0],\n",
              "       [ 2,  5,  0,  5,  1, 55,  1,  0,  0,  4],\n",
              "       [ 1,  0,  0,  0,  0,  0, 56,  0,  0,  0],\n",
              "       [ 0,  2,  0,  0,  1,  0,  0, 59,  0,  0],\n",
              "       [ 0, 28,  1,  5,  0,  1,  0,  1, 15,  1],\n",
              "       [ 1,  9,  0, 11,  2,  1,  0,  2,  0, 42]])"
            ]
          },
          "metadata": {},
          "execution_count": 192
        }
      ]
    }
  ],
  "metadata": {
    "accelerator": "TPU",
    "colab": {
      "provenance": [],
      "include_colab_link": true
    },
    "gpuClass": "standard",
    "kernelspec": {
      "display_name": "Python 3",
      "name": "python3"
    },
    "language_info": {
      "name": "python"
    }
  },
  "nbformat": 4,
  "nbformat_minor": 0
}